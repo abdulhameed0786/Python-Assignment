{
 "cells": [
  {
   "cell_type": "code",
   "execution_count": 2,
   "metadata": {},
   "outputs": [
    {
     "name": "stdout",
     "output_type": "stream",
     "text": [
      "Friend's First Name: Aaqib\n",
      "Friend's Last Name: Memon\n",
      "Friend's Age: 21\n",
      "Friend's City: Hyderabad\n",
      "\n",
      " {'First Name': 'Aaqib', 'Last Name': 'Memon', 'Age': 21, 'City': 'Hyderabad'} \n",
      "\n",
      "{'First Name': 'Aaqib', 'Last Name': 'Memon', 'Age': 21, 'City': 'Hyderabad', 'Qualification': 'Undergraduate'} \n",
      "\n",
      "{'First Name': 'Aaqib', 'Last Name': 'Memon', 'Age': 21, 'City': 'Hyderabad', 'Qualification': 'Ph.D'} \n",
      "\n",
      "{'First Name': 'Aaqib', 'Last Name': 'Memon', 'Age': 21, 'City': 'Hyderabad'}\n"
     ]
    }
   ],
   "source": [
    "#Question no : 01\n",
    "\n",
    "friend = {\n",
    "        \"First Name\" : \"Aaqib\",\n",
    "        \"Last Name\" : \"Memon\",\n",
    "        \"Age\" : 21,\n",
    "        \"City\" : \"Hyderabad\"\n",
    "}\n",
    "for key, value in friend.items():\n",
    "    print(\"Friend's \" + key + \": \" + str(value)) #str for age becouse age is an integer value\n",
    "print(\"\\n\",friend,\"\\n\")\n",
    "\n",
    "friend[\"Qualification\"] = \"Undergraduate\"\n",
    "print(friend,\"\\n\")\n",
    "\n",
    "\n",
    "friend[\"Qualification\"] = \"Ph.D\"\n",
    "print(friend,\"\\n\")\n",
    "\n",
    "del friend[\"Qualification\"]\n",
    "print(friend)"
   ]
  },
  {
   "cell_type": "code",
   "execution_count": 3,
   "metadata": {},
   "outputs": [
    {
     "name": "stdout",
     "output_type": "stream",
     "text": [
      "City Name:  Karachi \n",
      "\n",
      "Country of Karachi: Pakistan\n",
      "Population of Karachi: 14.91 million\n",
      "Fact of Karachi: It is vital to Pakistan's economy, contributing 42% of GDP, 70% of income tax revenue and 62% of sales tax revenue. \n",
      "\n",
      "\n",
      "City Name:  Paris \n",
      "\n",
      "Country of Paris: France\n",
      "Population of Paris: 2.141 million\n",
      "Fact of Paris: It's believed that Paris has only one stop sign in the entire city. \n",
      "\n",
      "\n",
      "City Name:  Hong Kong \n",
      "\n",
      "Country of Hong Kong: China\n",
      "Population of Hong Kong: 7.392 million\n",
      "Fact of Hong Kong: It is famous for towering skyscrapers \n",
      "\n",
      "\n"
     ]
    },
    {
     "name": "stdin",
     "output_type": "stream",
     "text": [
      "Enter Your Age  12\n"
     ]
    },
    {
     "name": "stdout",
     "output_type": "stream",
     "text": [
      "Your ticket chareges are $10.\n"
     ]
    }
   ],
   "source": [
    "#Question no : 02\n",
    "\n",
    "cities = {\n",
    "    \"Karachi\" : {\n",
    "        \n",
    "        \"Country\" : \"Pakistan\",\n",
    "        \"Population\" : \"14.91 million\",\n",
    "        \"Fact\" : \"It is vital to Pakistan's economy, contributing 42% of GDP, 70% of income tax revenue and 62% of sales tax revenue. \"\n",
    "        \n",
    "        },\n",
    "    \"Paris\" : {\n",
    "            \n",
    "        \"Country\" : \"France\",\n",
    "        \"Population\" : \"2.141 million\",\n",
    "        \"Fact\" : \"It's believed that Paris has only one stop sign in the entire city. \"\n",
    "        \n",
    "        },\n",
    "    \"Hong Kong\" : {\n",
    "            \n",
    "        \"Country\" : \"China\",\n",
    "        \"Population\" : \"7.392 million\",\n",
    "        \"Fact\" : \"It is famous for towering skyscrapers \"\n",
    "        \n",
    "        }\n",
    "}\n",
    "for key in cities.keys():\n",
    "    print(\"City Name: \",key,\"\\n\")\n",
    "    \n",
    "    for ekey,evalue in cities[key].items():\n",
    "        print(ekey+\" of \"+key+\": \"+evalue)\n",
    "    print(\"\\n\")\n",
    "    \n",
    "\n",
    "#Question no : 03\n",
    "\n",
    "age = 0,\n",
    "\n",
    "for a in age:\n",
    "    a = int(input(\"Enter Your Age \"))\n",
    "\n",
    "    if a <= 3 :\n",
    "        print(\"The ticket is free for you.\")\n",
    "\n",
    "    elif a > 3 and a <= 12 :\n",
    "        print(\"Your ticket chareges are $10.\")\n",
    "\n",
    "    elif a >12 :\n",
    "        print(\"Your ticket charges are $15.\")\n",
    "        \n",
    "    else:\n",
    "        print (\"you are not allowed\")"
   ]
  },
  {
   "cell_type": "code",
   "execution_count": 6,
   "metadata": {},
   "outputs": [
    {
     "name": "stdout",
     "output_type": "stream",
     "text": [
      "One of my favorite books is A Smarter Way to Learn Python.\n"
     ]
    }
   ],
   "source": [
    "#Question no : 04\n",
    "\n",
    "def favorate_book(title):\n",
    "    title1 = \"One of my favorite books is \"\n",
    "    total = title1 + title\n",
    "    print(total)\n",
    "\n",
    "favorate_book(\"A Smarter Way to Learn Python.\")"
   ]
  },
  {
   "cell_type": "code",
   "execution_count": 7,
   "metadata": {},
   "outputs": [
    {
     "name": "stdout",
     "output_type": "stream",
     "text": [
      "You have three chances to guess the number generated by computor between 1 to 30 \n",
      "\n"
     ]
    },
    {
     "name": "stdin",
     "output_type": "stream",
     "text": [
      "Guess the Number  12\n"
     ]
    },
    {
     "name": "stdout",
     "output_type": "stream",
     "text": [
      "\n",
      "given number is less than the hidden number.\n",
      "1st Chance is over\n",
      "\n"
     ]
    },
    {
     "name": "stdin",
     "output_type": "stream",
     "text": [
      "Guess the Number  20\n"
     ]
    },
    {
     "name": "stdout",
     "output_type": "stream",
     "text": [
      "\n",
      "given number is less than the hidden number.\n",
      "2nd Chance is over\n",
      "\n"
     ]
    },
    {
     "name": "stdin",
     "output_type": "stream",
     "text": [
      "Guess the Number  29\n"
     ]
    },
    {
     "name": "stdout",
     "output_type": "stream",
     "text": [
      "\n",
      "given number is greater than the hidden number.\n",
      "3rd Chance is over\n",
      "\n",
      "\n",
      "Your Loss...!! your chances are over\n",
      "Hidden number is  24\n"
     ]
    }
   ],
   "source": [
    "#Question no : 05\n",
    "\n",
    "import random\n",
    "num = random.randrange(1,30)\n",
    "chances = [\"1st Chance\",\"2nd Chance\",\"3rd Chance\"]\n",
    "\n",
    "print(\"You have three chances to guess the number generated by computor between 1 to 30 \\n\")\n",
    "\n",
    "for a in chances:\n",
    "   \n",
    "    gnum = int(input(\"Guess the Number \"))\n",
    "    \n",
    "    if num != gnum:\n",
    "        if num > gnum:\n",
    "            print(\"\\ngiven number is less than the hidden number.\")\n",
    "            print(a, \"is over\\n\")\n",
    "        if num < gnum:\n",
    "            print(\"\\ngiven number is greater than the hidden number.\")\n",
    "            print(a, \"is over\\n\")\n",
    "if num == gnum:\n",
    "        print(\"\\nYou have done this in\",a)\n",
    "        print(\"Congratulations...!!! Your guess is correct.\")\n",
    "        print(\"You Won the Game...!!!\\n\")\n",
    "if num != gnum:      \n",
    "    print(\"\\nYour Loss...!! your chances are over\\nHidden number is \",num)\n"
   ]
  },
  {
   "cell_type": "code",
   "execution_count": null,
   "metadata": {},
   "outputs": [],
   "source": []
  }
 ],
 "metadata": {
  "kernelspec": {
   "display_name": "Python 3",
   "language": "python",
   "name": "python3"
  },
  "language_info": {
   "codemirror_mode": {
    "name": "ipython",
    "version": 3
   },
   "file_extension": ".py",
   "mimetype": "text/x-python",
   "name": "python",
   "nbconvert_exporter": "python",
   "pygments_lexer": "ipython3",
   "version": "3.7.4"
  }
 },
 "nbformat": 4,
 "nbformat_minor": 4
}
