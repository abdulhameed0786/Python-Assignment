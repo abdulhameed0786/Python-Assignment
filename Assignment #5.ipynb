{
 "cells": [
  {
   "cell_type": "code",
   "execution_count": 26,
   "metadata": {},
   "outputs": [
    {
     "name": "stdout",
     "output_type": "stream",
     "text": [
      "Factorial of Given number is:  720\n"
     ]
    }
   ],
   "source": [
    "#Question no: 01\n",
    "\n",
    "def factorial(a):\n",
    "    if a == 0:\n",
    "        return 1\n",
    "    else:\n",
    "        return a * factorial(a - 1)\n",
    "\n",
    "fac = factorial(6) #given number is 6\n",
    "print(\"Factorial of Given number is: \", fac)\n"
   ]
  },
  {
   "cell_type": "code",
   "execution_count": 28,
   "metadata": {},
   "outputs": [
    {
     "name": "stdout",
     "output_type": "stream",
     "text": [
      "Enter String to Check No. of upper and lower Cases: The EngIneEring\n",
      "Original String :  The EngIneEring\n",
      "No Up Case :  4\n",
      "No low Case :  10\n"
     ]
    }
   ],
   "source": [
    "#Question no: 02\n",
    "\n",
    "def str_test(s):\n",
    "    d = {\"UP\" : 0, \"LOW\" : 0}\n",
    "    for b in s:\n",
    "        if b.isupper():\n",
    "            d[\"UP\"]+=1\n",
    "        elif b.islower():\n",
    "            d[\"LOW\"]+=1\n",
    "        else:\n",
    "            pass\n",
    "    print(\"Original String : \", s)\n",
    "    print(\"No Up Case : \", d[\"UP\"])\n",
    "    print(\"No low Case : \", d[\"LOW\"])\n",
    "Ostr = str(input(\"Enter String to Check No. of upper and lower Cases: \")) \n",
    "str_test(Ostr)\n",
    "    "
   ]
  },
  {
   "cell_type": "code",
   "execution_count": 18,
   "metadata": {},
   "outputs": [
    {
     "name": "stdout",
     "output_type": "stream",
     "text": [
      "2\n",
      "4\n",
      "6\n",
      "8\n",
      "10\n",
      "12\n",
      "14\n",
      "16\n",
      "18\n",
      "20\n"
     ]
    }
   ],
   "source": [
    "#Question no: 03\n",
    "\n",
    "glist = [1,2,3,4,5,6,7,8,9,10,11,12,13,14,15,16,17,18,19,20]\n",
    "\n",
    "\n",
    "def enum(num):\n",
    "    for lst in num:\n",
    "        if lst%2 == 0:\n",
    "            print(lst)\n",
    "        else:\n",
    "            pass\n",
    "\n",
    "enum(glist)\n",
    "    \n",
    "    "
   ]
  },
  {
   "cell_type": "code",
   "execution_count": 27,
   "metadata": {},
   "outputs": [
    {
     "name": "stdout",
     "output_type": "stream",
     "text": [
      "Write a word to Check the word is Palindrome or not: redder\n",
      "The word is a Palindrome.\n"
     ]
    }
   ],
   "source": [
    "#Question no: 04\n",
    "\n",
    "def check_palindrome(word):\n",
    "    word = word.casefold()\n",
    "    rev_word = reversed(word)\n",
    "    \n",
    "    if list(word) == list(rev_word):\n",
    "        print(\"The word is a Palindrome.\")\n",
    "    else:\n",
    "        print(\"The word is not a Palindrome.\")\n",
    "\n",
    "gword = str(input(\"Write a word to Check the word is Palindrome or not: \"))\n",
    "check_palindrome(gword)"
   ]
  },
  {
   "cell_type": "code",
   "execution_count": 27,
   "metadata": {},
   "outputs": [
    {
     "name": "stdout",
     "output_type": "stream",
     "text": [
      "Enter a number to Check number is prime or not: 79\n",
      "79  is a Prime Number\n"
     ]
    }
   ],
   "source": [
    "#Question no: 05\n",
    "\n",
    "def check_prime(pnum):\n",
    "    if pnum > 1:\n",
    "        for p in range(2, pnum): \n",
    "            if pnum % p == 0:\n",
    "                print(pnum, \" is not a Prime Number\")\n",
    "                print(p,\"x\",pnum//p, \" = \",pnum)\n",
    "                break\n",
    "            else:\n",
    "                print(pnum, \" is a Prime Number\")\n",
    "                break\n",
    "                \n",
    "    else:\n",
    "        print(pnum, \" is not a Prime Number\")\n",
    "        \n",
    "chnum = int(input(\"Enter a number to Check number is prime or not: \"))\n",
    "check_prime(chnum)"
   ]
  },
  {
   "cell_type": "code",
   "execution_count": 28,
   "metadata": {},
   "outputs": [
    {
     "name": "stdout",
     "output_type": "stream",
     "text": [
      "My Shoping Items are:\n",
      "Bottel\n",
      "Glass\n",
      "T-Shirt\n",
      "Jacket\n",
      "Jeans\n",
      "Zinger\n"
     ]
    }
   ],
   "source": [
    "#Question no: 06\n",
    "\n",
    "def shopmall(*shopitems):\n",
    "    print(\"My Shoping Items are:\")\n",
    "    \n",
    "    for shoping in shopitems:\n",
    "        print(shoping)\n",
    "        \n",
    "shopmall(\"Bottel\", \"Glass\", \"T-Shirt\", \"Jacket\", \"Jeans\", \"Zinger\")"
   ]
  },
  {
   "cell_type": "code",
   "execution_count": null,
   "metadata": {},
   "outputs": [],
   "source": []
  }
 ],
 "metadata": {
  "kernelspec": {
   "display_name": "Python 3",
   "language": "python",
   "name": "python3"
  },
  "language_info": {
   "codemirror_mode": {
    "name": "ipython",
    "version": 3
   },
   "file_extension": ".py",
   "mimetype": "text/x-python",
   "name": "python",
   "nbconvert_exporter": "python",
   "pygments_lexer": "ipython3",
   "version": "3.7.4"
  }
 },
 "nbformat": 4,
 "nbformat_minor": 2
}
